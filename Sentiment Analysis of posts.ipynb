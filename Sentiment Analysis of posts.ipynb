{
 "cells": [
  {
   "cell_type": "markdown",
   "metadata": {},
   "source": [
    "# Feature 1 - Predicting the mood of the user by analysing the posts done by the user\n",
    "\n",
    "This feature extracts the posts made by the user and analyses the posts to categorize them as Positive, Negative or Neutral posts"
   ]
  },
  {
   "cell_type": "code",
   "execution_count": 38,
   "metadata": {},
   "outputs": [],
   "source": [
    "# Author - Gowtham Musuvathi Kuamresh\n",
    "# Edited on Jan 3 2021"
   ]
  },
  {
   "cell_type": "code",
   "execution_count": 39,
   "metadata": {},
   "outputs": [],
   "source": [
    "import os\n",
    "import nltk\n",
    "import json\n",
    "from nltk.corpus import stopwords\n",
    "import pandas\n",
    "import pandas as pd\n",
    "import re\n",
    "#nltk.download('stopwords')"
   ]
  },
  {
   "cell_type": "markdown",
   "metadata": {},
   "source": [
    "Function to preprocess the posts by removing stop words in English"
   ]
  },
  {
   "cell_type": "code",
   "execution_count": 40,
   "metadata": {},
   "outputs": [],
   "source": [
    "def remove_stopwords(words):\n",
    "    new_words = \"\"\n",
    "    word = words.split(\" \")\n",
    "    for i in word:\n",
    "        if i not in stopwords.words('english'):\n",
    "            new_words += (i) + \" \"\n",
    "    return (new_words[:-1])"
   ]
  },
  {
   "cell_type": "markdown",
   "metadata": {},
   "source": [
    "Creates dataframe of all the posts by the user along with date when posted"
   ]
  },
  {
   "cell_type": "code",
   "execution_count": 42,
   "metadata": {},
   "outputs": [],
   "source": [
    "def dataset_creation(foldername, output):\n",
    "    res = []\n",
    "    for cur, _dirs, files in os.walk(foldername):\n",
    "        for file in files:\n",
    "            with open(cur + \"/\" + file, \"r\") as input:\n",
    "                dat = json.load(input)\n",
    "                for posts in dat:\n",
    "\n",
    "                    date_time = pandas.to_datetime((posts[\"timestamp\"]), unit='s')\n",
    "                    date_time = pandas.to_datetime(date_time).date()\n",
    "                    res.append(str(date_time))\n",
    "                    try:\n",
    "                        res.append(posts[\"data\"][0][\"post\"])\n",
    "                        # Text preprocessing by removing urls, special chars and numbers\n",
    "                        text = posts[\"data\"][0][\"post\"]\n",
    "                        text = text.lower()\n",
    "                        text = re.sub(r\"[.*?\\|\\/:]\", \"\", text)\n",
    "                        text = re.sub(r'^https?:\\/\\/.*[\\r\\n]*', '', text)\n",
    "                        text = re.sub(r\"[^a-z0-9]+\", \" \", text)\n",
    "                        text = remove_stopwords(text)\n",
    "                        res.append(text)\n",
    "                    except:\n",
    "                        res.append(\"\")\n",
    "                        res.append(\"\")\n",
    "                    res.append(foldername)\n",
    "                    output.append(res)\n",
    "                    res = []\n",
    "\n",
    "    return output"
   ]
  },
  {
   "cell_type": "code",
   "execution_count": 50,
   "metadata": {},
   "outputs": [],
   "source": [
    "os.chdir(\"C:/Users/Gowtham/PycharmProjects/Ethi_Facebook_Data_Analysis/facebook-sampledataset\")\n",
    "folders = os.listdir()"
   ]
  },
  {
   "cell_type": "code",
   "execution_count": 54,
   "metadata": {},
   "outputs": [],
   "source": [
    "# Set current working directory\n",
    "def main(sub_folders):\n",
    "    out = []\n",
    "    dataset_creation(sub_folders, out)\n",
    "    column_names = [\"Date\", \"Content\", \"Pre processed Content\", \"User name/ User category\"]\n",
    "    df = pd.DataFrame(out, columns=column_names)\n",
    "    return df"
   ]
  },
  {
   "cell_type": "markdown",
   "metadata": {},
   "source": [
    "Creates a csv file of all the text data from the posts posted by the users"
   ]
  },
  {
   "cell_type": "code",
   "execution_count": 55,
   "metadata": {},
   "outputs": [
    {
     "name": "stdout",
     "output_type": "stream",
     "text": [
      "            Date                                            Content  \\\n",
      "0     2020-03-18  HELLO LOOK AT THIS PLZ (and send me critical f...   \n",
      "1     2020-02-16  Hey friends, I've been asked to sit on a stage...   \n",
      "2     2020-01-21  Get this man a Big White House please, I think...   \n",
      "3     2019-12-12  Going to vote now.. bet you canât guess who ...   \n",
      "4     2019-12-12               VOTE VOTE VOTE you have 4 MORE HOURS   \n",
      "5     2019-12-12  This is my last day of propaganda ð strange...   \n",
      "6     2019-12-11                      #fridgegate \\n#votetactically   \n",
      "7     2019-12-11  I havenât heard a single NHS employee say an...   \n",
      "8     2019-12-11  ððð imagine being more afraid of scru...   \n",
      "9     2019-12-10                                                      \n",
      "10    2019-12-09  The fact is, saying that you wonât be sellin...   \n",
      "11    2019-12-08                          Curb your enthusiasm BoJo   \n",
      "12    2019-12-08                                                      \n",
      "13    2019-12-08                                                      \n",
      "14    2019-12-08                                                      \n",
      "15    2019-12-07  Super senior ex-Tories campaigning against the...   \n",
      "16    2019-12-06                                                      \n",
      "17    2019-12-06  Andrew Neil ripping Boris for skipping the cru...   \n",
      "18    2019-12-05                                                      \n",
      "19    2019-12-04                                         Ali for PM   \n",
      "20    2019-12-04  The current Bank of England interest rate is 0...   \n",
      "21    2019-12-03  The Economist commissioned some analysis on an...   \n",
      "22    2019-11-26  Register to vote, deadline is tonight!\\n\\nMigh...   \n",
      "23    2019-11-24  âItâs impossible to defend a system where ...   \n",
      "24    2019-11-21  Johnson not even turning up for hustings in hi...   \n",
      "25    2019-11-20  The Conservatives werenât trying to deceive ...   \n",
      "26    2019-11-15  TL:DR The BBC accuse the Tories of going round...   \n",
      "27    2019-11-10  Woo voting time #Bernie2020 you have to regist...   \n",
      "28    2019-11-10                Happy birthday anjaaaa ð° ð¥³ xx   \n",
      "29    2019-10-07  Charlieeeee happy birthday for yesterday!!!! â...   \n",
      "...          ...                                                ...   \n",
      "2600  2011-07-09                              happy birthday :D xxx   \n",
      "2601  2011-07-09  happy birthday nutta! hope it's great (when yo...   \n",
      "2602  2011-07-09  damn it teemos, you beat me! xxx Love you oggi...   \n",
      "2603  2011-07-02                                 Happy Birthday! :)   \n",
      "2604  2011-06-25                            happy birthday harry :D   \n",
      "2605  2011-04-21  I just got braces today, and they are starting...   \n",
      "2606  2011-04-12                                      07576358357 x   \n",
      "2607  2011-04-10                                                      \n",
      "2608  2011-03-12  mike phillips and matthew rees are such cheate...   \n",
      "2609  2011-01-22  U15Bs, when do we have to be at the astro for ...   \n",
      "2610  2011-01-02         Got my new laptop for Christmas :D !!!!!!!   \n",
      "2611  2010-07-14  is sitting on the roof outside school lodge, o...   \n",
      "2612  2010-06-03  leaving group, ny1 can b administrator if they...   \n",
      "2613  2010-05-30  http://www.facebook.com/group.php?gid=12123715...   \n",
      "2614  2010-05-30                                                      \n",
      "2615  2010-05-30                                                      \n",
      "2616  2010-05-30                                                      \n",
      "2617  2010-05-30  http://www.facebook.com/group.php?gid=12123715...   \n",
      "2618  2010-05-30                                                      \n",
      "2619  2010-05-30  http://www.facebook.com/photo.php?pid=12772881...   \n",
      "2620  2010-05-30  http://www.facebook.com/photo.php?pid=12772881...   \n",
      "2621  2010-05-30                                                      \n",
      "2622  2010-05-30                                           MULRENAN   \n",
      "2623  2010-05-22  R.E. revision lessons... lol, get out the ipod...   \n",
      "2624  2010-05-09  RIP. I wont forget you, with all the memories ...   \n",
      "2625  2010-05-02             thinks his computer is virused!!!!!!!!   \n",
      "2626  2009-11-11  You people are strange strange kids. How are y...   \n",
      "2627  2009-05-27            hmmmm, when is the cake gonna be eaten!   \n",
      "2628  2009-05-27   Lol i just started playing Zynga poker, it rocks   \n",
      "2629  2009-05-26                    CAN SOMEBODY INVITE ME TO POKER   \n",
      "\n",
      "                                  Pre processed Content  \\\n",
      "0     hello look plz send critical feedback especial...   \n",
      "1     hey friends asked sit stage working project 10...   \n",
      "2     get man big white house please think nice save...   \n",
      "3     going vote bet guess voting favourite no1 elec...   \n",
      "4                                vote vote vote 4 hours   \n",
      "5     last day propaganda strangely one telegraph to...   \n",
      "6                             fridgegate votetactically   \n",
      "7     heard single nhs employee say anything good co...   \n",
      "8      imagine afraid scrutiny theresa may vote tact...   \n",
      "9                                                         \n",
      "10    fact saying selling parts nhs actually mean te...   \n",
      "11                                 curb enthusiasm bojo   \n",
      "12                                                        \n",
      "13                                                        \n",
      "14                                                        \n",
      "15    super senior ex tories campaigning party think...   \n",
      "16                                                        \n",
      "17    andrew neil ripping boris skipping crucial lea...   \n",
      "18                                                        \n",
      "19                                               ali pm   \n",
      "20    current bank england interest rate 075 1 decad...   \n",
      "21    economist commissioned analysis antisemitism a...   \n",
      "22    register vote deadline tonight might biggest e...   \n",
      "23     impossible defend system 34 british children ...   \n",
      "24    johnson even turning hustings constituency ees...   \n",
      "25    conservatives trying deceive people acronym cc...   \n",
      "26    tldr bbc accuse tories going round lying aka s...   \n",
      "27    woo voting time bernie2020 register vote want ...   \n",
      "28                            happy birthday anjaaaa xx   \n",
      "29    charlieeeee happy birthday yesterday hope crac...   \n",
      "...                                                 ...   \n",
      "2600                                 happy birthday xxx   \n",
      "2601  happy birthday nutta hope great wake see ya mo...   \n",
      "2602  damn teemos beat xxx love oggie thanks awesome...   \n",
      "2603                                    happy birthday    \n",
      "2604                               happy birthday harry   \n",
      "2605          got braces today starting get bit painful   \n",
      "2606                                      07576358357 x   \n",
      "2607                                                      \n",
      "2608  mike phillips matthew rees cheaters un fucking...   \n",
      "2609                        u15bs astro game want check   \n",
      "2610                          got new laptop christmas    \n",
      "2611    sitting roof outside school lodge old art room    \n",
      "2612             leaving group ny1 b administrator want   \n",
      "2613  httpwwwfacebookcomgroupphpgid 121237154580162 ...   \n",
      "2614                                                      \n",
      "2615                                                      \n",
      "2616                                                      \n",
      "2617      httpwwwfacebookcomgroupphpgid 121237154580162   \n",
      "2618                                                      \n",
      "2619  httpwwwfacebookcomphotophppid 12772881 op 1 vi...   \n",
      "2620  httpwwwfacebookcomphotophppid 12772881 op 1 vi...   \n",
      "2621                                                      \n",
      "2622                                           mulrenan   \n",
      "2623       revision lessons lol get ipod blank teacher    \n",
      "2624  rip wont forget memories school lodge life see...   \n",
      "2625                           thinks computer virused    \n",
      "2626  people strange strange kids inbox cos using ph...   \n",
      "2627                            hmmmm cake gonna eaten    \n",
      "2628              lol started playing zynga poker rocks   \n",
      "2629                              somebody invite poker   \n",
      "\n",
      "     User name/ User category  \n",
      "0                       posts  \n",
      "1                       posts  \n",
      "2                       posts  \n",
      "3                       posts  \n",
      "4                       posts  \n",
      "5                       posts  \n",
      "6                       posts  \n",
      "7                       posts  \n",
      "8                       posts  \n",
      "9                       posts  \n",
      "10                      posts  \n",
      "11                      posts  \n",
      "12                      posts  \n",
      "13                      posts  \n",
      "14                      posts  \n",
      "15                      posts  \n",
      "16                      posts  \n",
      "17                      posts  \n",
      "18                      posts  \n",
      "19                      posts  \n",
      "20                      posts  \n",
      "21                      posts  \n",
      "22                      posts  \n",
      "23                      posts  \n",
      "24                      posts  \n",
      "25                      posts  \n",
      "26                      posts  \n",
      "27                      posts  \n",
      "28                      posts  \n",
      "29                      posts  \n",
      "...                       ...  \n",
      "2600                    posts  \n",
      "2601                    posts  \n",
      "2602                    posts  \n",
      "2603                    posts  \n",
      "2604                    posts  \n",
      "2605                    posts  \n",
      "2606                    posts  \n",
      "2607                    posts  \n",
      "2608                    posts  \n",
      "2609                    posts  \n",
      "2610                    posts  \n",
      "2611                    posts  \n",
      "2612                    posts  \n",
      "2613                    posts  \n",
      "2614                    posts  \n",
      "2615                    posts  \n",
      "2616                    posts  \n",
      "2617                    posts  \n",
      "2618                    posts  \n",
      "2619                    posts  \n",
      "2620                    posts  \n",
      "2621                    posts  \n",
      "2622                    posts  \n",
      "2623                    posts  \n",
      "2624                    posts  \n",
      "2625                    posts  \n",
      "2626                    posts  \n",
      "2627                    posts  \n",
      "2628                    posts  \n",
      "2629                    posts  \n",
      "\n",
      "[2630 rows x 4 columns]\n"
     ]
    }
   ],
   "source": [
    "df = main(\"posts\")\n",
    "print(df)"
   ]
  },
  {
   "cell_type": "markdown",
   "metadata": {},
   "source": [
    "# Posts analysis using TextBlob"
   ]
  },
  {
   "cell_type": "markdown",
   "metadata": {},
   "source": [
    "Creating a visualization to count the number of positive, negative and neutral posts  by the user"
   ]
  },
  {
   "cell_type": "code",
   "execution_count": 56,
   "metadata": {},
   "outputs": [],
   "source": [
    "import matplotlib.pyplot  as plt\n",
    "from textblob import TextBlob"
   ]
  },
  {
   "cell_type": "code",
   "execution_count": 57,
   "metadata": {},
   "outputs": [],
   "source": [
    "score = []\n",
    "for i in df[\"Pre processed Content\"]:\n",
    "    a = (TextBlob(str(i)))\n",
    "    if (a.sentiment.polarity) < 0:\n",
    "        score.append(-1)\n",
    "    if (a.sentiment.polarity) == 0:\n",
    "        score.append(0)\n",
    "    if (a.sentiment.polarity) > 0:\n",
    "        score.append(1)\n",
    "df['Score'] = score"
   ]
  },
  {
   "cell_type": "markdown",
   "metadata": {},
   "source": [
    "Categorizing the posts into Positive, Negative and Neutral based on Sentiment polarity using the Text Blob library"
   ]
  },
  {
   "cell_type": "code",
   "execution_count": 58,
   "metadata": {},
   "outputs": [],
   "source": [
    "# -1 is coded as Negative posts\n",
    "negative = df.loc[df[\"Score\"] == -1]"
   ]
  },
  {
   "cell_type": "code",
   "execution_count": 59,
   "metadata": {},
   "outputs": [],
   "source": [
    "# 1 is coded as Positive posts\n",
    "positive = df.loc[df[\"Score\"] == 1]"
   ]
  },
  {
   "cell_type": "code",
   "execution_count": 60,
   "metadata": {},
   "outputs": [],
   "source": [
    "# 0 is coded as Neutral posts\n",
    "neutral = df.loc[df[\"Score\"] == 0]"
   ]
  },
  {
   "cell_type": "markdown",
   "metadata": {},
   "source": [
    "The negative posts are grouped together by the Date column"
   ]
  },
  {
   "cell_type": "code",
   "execution_count": 65,
   "metadata": {},
   "outputs": [
    {
     "data": {
      "image/png": "[encoded data removed]",
      "text/plain": [
       "<Figure size 432x288 with 1 Axes>"
      ]
     },
     "metadata": {
      "needs_background": "light"
     },
     "output_type": "display_data"
    }
   ],
   "source": [
    "neg_df = negative.groupby(negative[\"Date\"])[\"Score\"].agg(\"count\").to_frame(\"Negative Posts\").reset_index()\n",
    "neg_df.plot(x='Date', y='Negative Posts', kind='line')\n",
    "plt.suptitle(\"Negative Posts\")\n",
    "plt.xticks(rotation=45, ha='right')\n",
    "plt.show()"
   ]
  },
  {
   "cell_type": "markdown",
   "metadata": {},
   "source": [
    "The neutral posts are grouped by the Date column"
   ]
  },
  {
   "cell_type": "code",
   "execution_count": 62,
   "metadata": {},
   "outputs": [
    {
     "data": {
      "image/png": "[encoded data removed]",
      "text/plain": [
       "<Figure size 432x288 with 1 Axes>"
      ]
     },
     "metadata": {
      "needs_background": "light"
     },
     "output_type": "display_data"
    }
   ],
   "source": [
    "neu_df = neutral.groupby(neutral[\"Date\"])[\"Score\"].agg(\"count\").to_frame(\"Neutral Posts\").reset_index()\n",
    "neu_df.plot(x=\"Date\", y=\"Neutral Posts\", kind=\"line\")\n",
    "plt.xticks(rotation=45, ha='right')\n",
    "plt.suptitle(\"Neutral Posts\")\n",
    "plt.show()"
   ]
  },
  {
   "cell_type": "markdown",
   "metadata": {},
   "source": [
    "The positive posts are grouped by the Date column"
   ]
  },
  {
   "cell_type": "code",
   "execution_count": 63,
   "metadata": {},
   "outputs": [
    {
     "data": {
      "image/png": "[encoded data removed]",
      "text/plain": [
       "<Figure size 432x288 with 1 Axes>"
      ]
     },
     "metadata": {
      "needs_background": "light"
     },
     "output_type": "display_data"
    }
   ],
   "source": [
    "pos_df = positive.groupby(positive[\"Date\"])[\"Score\"].agg(\"count\").to_frame(\"Positive Posts\").reset_index()\n",
    "pos_df.plot(x=\"Date\", y=\"Positive Posts\", kind=\"line\")\n",
    "plt.suptitle(\"Positive Posts\")\n",
    "plt.xticks(rotation=45, ha='right')\n",
    "plt.show()"
   ]
  },
  {
   "cell_type": "markdown",
   "metadata": {},
   "source": [
    "Creating an excel file to do data visualization in Tableau"
   ]
  },
  {
   "cell_type": "code",
   "execution_count": 64,
   "metadata": {},
   "outputs": [
    {
     "name": "stdout",
     "output_type": "stream",
     "text": [
      "           Date  Positive Posts  Negative Posts  Neutral Posts\n",
      "0    2009-05-27               1               0              1\n",
      "1    2010-05-22               1               0              0\n",
      "2    2010-07-14               1               0              0\n",
      "3    2011-01-02               1               0              0\n",
      "4    2011-03-12               1               0              0\n",
      "5    2011-06-25               1               0              0\n",
      "6    2011-07-02               1               0              0\n",
      "7    2011-07-09               5               0              0\n",
      "8    2011-07-11               2               0              0\n",
      "9    2011-07-13               1               0              0\n",
      "10   2011-08-19               1               0              0\n",
      "11   2011-08-23               1               0              1\n",
      "12   2011-08-26               2               0              0\n",
      "13   2011-08-31               2               0              0\n",
      "14   2011-09-05               2               0              0\n",
      "15   2011-09-10               2               0              0\n",
      "16   2011-09-22               1               0              0\n",
      "17   2011-09-25               1               0              0\n",
      "18   2011-10-22               1               0              0\n",
      "19   2011-10-24               2               0              1\n",
      "20   2011-10-30               2               0              0\n",
      "21   2011-11-01               3               0              0\n",
      "22   2011-11-06               1               0              1\n",
      "23   2011-11-20               2               0              0\n",
      "24   2011-12-02               1               0              0\n",
      "25   2011-12-03               2               0              0\n",
      "26   2011-12-09               1               0              0\n",
      "27   2012-01-01               1               0              0\n",
      "28   2012-01-03               1               0              0\n",
      "29   2012-02-26               1               0              0\n",
      "..          ...             ...             ...            ...\n",
      "583  2017-08-09               0               0              1\n",
      "584  2017-08-20               0               0              1\n",
      "585  2017-08-28               0               0              1\n",
      "586  2017-08-29               0               0              1\n",
      "587  2017-10-08               0               0              1\n",
      "588  2017-11-02               0               0              1\n",
      "589  2018-01-10               0               0              1\n",
      "590  2018-02-09               0               0              1\n",
      "591  2018-02-23               0               0              1\n",
      "592  2018-02-27               0               0              1\n",
      "593  2018-03-01               0               0              1\n",
      "594  2018-03-10               0               0              1\n",
      "595  2018-04-23               0               0              1\n",
      "596  2018-07-19               0               0              1\n",
      "597  2018-07-24               0               0              2\n",
      "598  2018-08-13               0               0              1\n",
      "599  2018-09-02               0               0              1\n",
      "600  2018-09-08               0               0              1\n",
      "601  2018-10-18               0               0              1\n",
      "602  2018-12-11               0               0              2\n",
      "603  2019-01-10               0               0              1\n",
      "604  2019-01-20               0               0              1\n",
      "605  2019-01-22               0               0              1\n",
      "606  2019-05-24               0               0              1\n",
      "607  2019-05-25               0               0              1\n",
      "608  2019-08-30               0               0              1\n",
      "609  2019-11-26               0               0              1\n",
      "610  2019-12-05               0               0              1\n",
      "611  2019-12-08               0               0              4\n",
      "612  2019-12-10               0               0              1\n",
      "\n",
      "[613 rows x 4 columns]\n"
     ]
    }
   ],
   "source": [
    "final_df = pd.merge(pos_df, neg_df, how=\"outer\", on=\"Date\")\n",
    "\n",
    "final = pd.merge(final_df, neu_df, how=\"outer\", on=\"Date\")\n",
    "\n",
    "final = final.fillna(0)\n",
    "final[[\"Positive Posts\", \"Negative Posts\", \"Neutral Posts\"]] = final[\n",
    "    [\"Positive Posts\", \"Negative Posts\", \"Neutral Posts\"]].astype(int)\n",
    "final.to_csv(\"Posts_Sentiment_Analysis.csv\", encoding='utf-8', index=False)\n",
    "print(final)"
   ]
  },
  {
   "cell_type": "code",
   "execution_count": null,
   "metadata": {},
   "outputs": [],
   "source": []
  }
 ],
 "metadata": {
  "kernelspec": {
   "display_name": "Python 3",
   "language": "python",
   "name": "python3"
  },
  "language_info": {
   "codemirror_mode": {
    "name": "ipython",
    "version": 3
   },
   "file_extension": ".py",
   "mimetype": "text/x-python",
   "name": "python",
   "nbconvert_exporter": "python",
   "pygments_lexer": "ipython3",
   "version": "3.7.3"
  }
 },
 "nbformat": 4,
 "nbformat_minor": 2
}

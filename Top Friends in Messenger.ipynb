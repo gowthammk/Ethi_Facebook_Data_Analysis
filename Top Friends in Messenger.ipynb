{
 "cells": [
  {
   "cell_type": "markdown",
   "metadata": {},
   "source": [
    "# Feature 2 - Top people on Messenger\n",
    "\n",
    "This feature extracts the information from the messages sub folder of the main folder uploaded\n",
    "and gives the Top 5 most people/ groups messaged using Facebook"
   ]
  },
  {
   "cell_type": "code",
   "execution_count": 1,
   "metadata": {},
   "outputs": [],
   "source": [
    "import os\n",
    "from datetime import date\n",
    "import datetime\n",
    "from dateutil.relativedelta import relativedelta\n",
    "import json\n",
    "import pandas as pd\n",
    "import re\n",
    "import numpy as np\n",
    "import matplotlib.pyplot as plt"
   ]
  },
  {
   "cell_type": "markdown",
   "metadata": {},
   "source": [
    "Extracts the user name so that we can check if the user is an active participant of any groups on messenger(sends messages) "
   ]
  },
  {
   "cell_type": "code",
   "execution_count": 2,
   "metadata": {},
   "outputs": [],
   "source": [
    "os.chdir(\"C:/Users/Gowtham/PycharmProjects/Ethi_Facebook_Data_Analysis/facebook-sampledataset\")\n",
    "folders = os.listdir()\n",
    "def user_name():\n",
    "    for folder in folders:\n",
    "        if \"profile_information\" == folder:\n",
    "                    with open(folder + \"/\" + \"profile_information.json\") as input:\n",
    "                        data = json.load(input)\n",
    "                        return (data[\"profile\"][\"name\"][\"full_name\"])"
   ]
  },
  {
   "cell_type": "markdown",
   "metadata": {},
   "source": [
    "Preprocesses the group name/ User name - By removing special characters and emoji's"
   ]
  },
  {
   "cell_type": "code",
   "execution_count": 3,
   "metadata": {},
   "outputs": [],
   "source": [
    "def preprocess(text):\n",
    "    text = re.sub(r\"[.*?\\|\\/:]\", \" \", text)\n",
    "    text = re.sub(r\"[^A-Za-z0-9]+\", \" \", text)\n",
    "    return (text)"
   ]
  },
  {
   "cell_type": "markdown",
   "metadata": {},
   "source": [
    "# This brachart function displays the bargraph horizontally"
   ]
  },
  {
   "cell_type": "code",
   "execution_count": 4,
   "metadata": {},
   "outputs": [],
   "source": [
    "def barchart(messages, names, plot_name):\n",
    "    # Reverses the names so that the bar chart is in ascending order\n",
    "    names = (names.iloc[::-1])\n",
    "    y_pos = np.arange(len(names))\n",
    "    # Plots a horizontal bar chart\n",
    "    plt.barh(y_pos, sorted(messages))\n",
    "    plt.yticks(y_pos, names)\n",
    "    plt.suptitle(plot_name)\n",
    "    plt.savefig(plot_name+\".png\", bbox_inches=\"tight\")\n",
    "    plt.show()"
   ]
  },
  {
   "cell_type": "markdown",
   "metadata": {},
   "source": [
    "Function to create a csv file"
   ]
  },
  {
   "cell_type": "code",
   "execution_count": 5,
   "metadata": {},
   "outputs": [],
   "source": [
    "def top_friends_messenger(data, file_name):\n",
    "    data.to_csv(file_name + \".csv\", encoding='utf-8', index=False)"
   ]
  },
  {
   "cell_type": "markdown",
   "metadata": {},
   "source": [
    "# The function *messages_data* creates two dataframe - Top 5 Active groups and Top 5 close people on messenger\n"
   ]
  },
  {
   "cell_type": "code",
   "execution_count": 6,
   "metadata": {},
   "outputs": [],
   "source": [
    "def recent_messages(foldername):\n",
    "    duration = 6\n",
    "    group_messages_count = 0\n",
    "    individual_messages_count = 0\n",
    "    messenger_groups = {}\n",
    "    messgenger_personal_accounts = {}\n",
    "    user = user_name()\n",
    "    for cur, _dirs, files in os.walk(foldername):\n",
    "        for file in files:\n",
    "            # Only json file is needed to be parsed\n",
    "            if file.endswith(\".json\"):\n",
    "                with open(cur + \"/\" + file) as input:\n",
    "                    data = json.load(input)\n",
    "                    for i in data[\"messages\"]:\n",
    "                        dt_object = datetime.datetime.fromtimestamp(int(i[\"timestamp_ms\"]) / 1000)\n",
    "                        last_six_months = date.today() + relativedelta(months=-duration)\n",
    "                        if (dt_object.date() > last_six_months):\n",
    "                            if len(data[\"participants\"]) < 3:\n",
    "                                for participant in data[\"participants\"]:\n",
    "                                    if participant[\"name\"] != data[\"title\"]:\n",
    "                                        if i[\"sender_name\"] == participant[\"name\"]:\n",
    "                                            individual_messages_count += 1\n",
    "                                    else:\n",
    "                                        friends = preprocess(participant[\"name\"])\n",
    "                            if len(data[\"participants\"]) >= 3:\n",
    "                                group_name = preprocess(data[\"title\"])\n",
    "                                if i[\"sender_name\"] == user:\n",
    "                                    group_messages_count += 1\n",
    "\n",
    "                    if individual_messages_count > 0:\n",
    "                        try:\n",
    "                            if friends not in messgenger_personal_accounts:\n",
    "                                messgenger_personal_accounts[friends] = individual_messages_count\n",
    "                            else:\n",
    "                                messgenger_personal_accounts[friends] += individual_messages_count\n",
    "                        except:\n",
    "                            pass\n",
    "                    if group_messages_count > 0:\n",
    "                        if group_name not in messenger_groups:\n",
    "                            messenger_groups[group_name] = group_messages_count\n",
    "                        else:\n",
    "                            messenger_groups[group_name] += group_messages_count\n",
    "                    individual_messages_count = 0\n",
    "                    group_messages_count = 0\n",
    "\n",
    "    personal_messages = dict(sorted(messgenger_personal_accounts.items(), key=lambda x: x[1], reverse=True))\n",
    "    group_messages = dict(sorted(messenger_groups.items(), key=lambda x: x[1], reverse=True))\n",
    "    df_groups = pd.DataFrame(group_messages.items(),\n",
    "                             columns=[\"Group Name\", \"Number of Messages you shared with the group\"])\n",
    "    top_friends_messenger(df_groups, \"groups\")\n",
    "    df_groups = df_groups.head()\n",
    "    df_personal_messages = pd.DataFrame(personal_messages.items(),\n",
    "                                        columns=[\"Account Name\", \"Number of messages you have sent\"])\n",
    "    top_friends_messenger(df_personal_messages, \"friends\")\n",
    "    df_personal_messages = df_personal_messages.head()\n",
    "    barchart(df_groups[\"Number of Messages you shared with the group\"], df_groups[\"Group Name\"], \"Top 5 Active Groups\")\n",
    "    barchart(df_personal_messages[\"Number of messages you have sent\"], df_personal_messages[\"Account Name\"],\"Top 5 close people on messenger\")\n"
   ]
  },
  {
   "cell_type": "code",
   "execution_count": 7,
   "metadata": {},
   "outputs": [
    {
     "data": {
      "image/png": "[encoded data removed]",
      "text/plain": [
       "<Figure size 432x288 with 1 Axes>"
      ]
     },
     "metadata": {
      "needs_background": "light"
     },
     "output_type": "display_data"
    },
    {
     "data": {
      "image/png": "[encoded data removed]",
      "text/plain": [
       "<Figure size 432x288 with 1 Axes>"
      ]
     },
     "metadata": {
      "needs_background": "light"
     },
     "output_type": "display_data"
    }
   ],
   "source": [
    "def main(sub_folders):\n",
    "    recent_messages(sub_folders)\n",
    "main(\"messages\")"
   ]
  },
  {
   "cell_type": "code",
   "execution_count": null,
   "metadata": {},
   "outputs": [],
   "source": []
  }
 ],
 "metadata": {
  "kernelspec": {
   "display_name": "Python 3",
   "language": "python",
   "name": "python3"
  },
  "language_info": {
   "codemirror_mode": {
    "name": "ipython",
    "version": 3
   },
   "file_extension": ".py",
   "mimetype": "text/x-python",
   "name": "python",
   "nbconvert_exporter": "python",
   "pygments_lexer": "ipython3",
   "version": "3.7.3"
  }
 },
 "nbformat": 4,
 "nbformat_minor": 2
}
